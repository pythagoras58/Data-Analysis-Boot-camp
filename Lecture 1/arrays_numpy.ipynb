{
 "cells": [
  {
   "cell_type": "markdown",
   "id": "cc8f0771",
   "metadata": {},
   "source": [
    "# NUMPY ARRAYS"
   ]
  },
  {
   "cell_type": "code",
   "execution_count": 4,
   "id": "848d9478",
   "metadata": {},
   "outputs": [],
   "source": [
    "import numpy as np\n",
    "import pandas as pd"
   ]
  },
  {
   "cell_type": "code",
   "execution_count": 5,
   "id": "6bcfbbfc",
   "metadata": {},
   "outputs": [],
   "source": [
    "list1 = list(range(10000000))"
   ]
  },
  {
   "cell_type": "code",
   "execution_count": 6,
   "id": "0ecee0d1",
   "metadata": {},
   "outputs": [
    {
     "data": {
      "text/plain": [
       "list"
      ]
     },
     "execution_count": 6,
     "metadata": {},
     "output_type": "execute_result"
    }
   ],
   "source": [
    "type(list1)"
   ]
  },
  {
   "cell_type": "code",
   "execution_count": 7,
   "id": "50eb4979",
   "metadata": {},
   "outputs": [],
   "source": [
    "np_array = np.arange(10000000)"
   ]
  },
  {
   "cell_type": "code",
   "execution_count": 8,
   "id": "5997c693",
   "metadata": {},
   "outputs": [
    {
     "data": {
      "text/plain": [
       "numpy.ndarray"
      ]
     },
     "execution_count": 8,
     "metadata": {},
     "output_type": "execute_result"
    }
   ],
   "source": [
    "type(np_array)"
   ]
  },
  {
   "cell_type": "code",
   "execution_count": 9,
   "id": "4ee4e40d",
   "metadata": {},
   "outputs": [
    {
     "name": "stdout",
     "output_type": "stream",
     "text": [
      "549 ms ± 27.4 ms per loop (mean ± std. dev. of 7 runs, 1 loop each)\n"
     ]
    }
   ],
   "source": [
    "%timeit list1*3"
   ]
  },
  {
   "cell_type": "code",
   "execution_count": 10,
   "id": "c6388bae",
   "metadata": {},
   "outputs": [
    {
     "name": "stdout",
     "output_type": "stream",
     "text": [
      "26.4 ms ± 3.13 ms per loop (mean ± std. dev. of 7 runs, 10 loops each)\n"
     ]
    }
   ],
   "source": [
    "%timeit np_array*3"
   ]
  },
  {
   "cell_type": "markdown",
   "id": "f4c5905e",
   "metadata": {},
   "source": [
    "# CREATING NUMPY ARRAYS"
   ]
  },
  {
   "cell_type": "code",
   "execution_count": 11,
   "id": "d926ce54",
   "metadata": {},
   "outputs": [],
   "source": [
    "arr = np.random.randn(2,3)"
   ]
  },
  {
   "cell_type": "code",
   "execution_count": 12,
   "id": "bef9626d",
   "metadata": {},
   "outputs": [
    {
     "data": {
      "text/plain": [
       "numpy.ndarray"
      ]
     },
     "execution_count": 12,
     "metadata": {},
     "output_type": "execute_result"
    }
   ],
   "source": [
    "type(arr)"
   ]
  },
  {
   "cell_type": "code",
   "execution_count": 13,
   "id": "2d50c383",
   "metadata": {},
   "outputs": [
    {
     "data": {
      "text/plain": [
       "array([[-0.72446735,  0.4030524 ,  0.35067398],\n",
       "       [ 0.98153356,  0.03751858,  0.58481437]])"
      ]
     },
     "execution_count": 13,
     "metadata": {},
     "output_type": "execute_result"
    }
   ],
   "source": [
    "arr"
   ]
  },
  {
   "cell_type": "code",
   "execution_count": 14,
   "id": "a6890175",
   "metadata": {},
   "outputs": [
    {
     "data": {
      "text/plain": [
       "2"
      ]
     },
     "execution_count": 14,
     "metadata": {},
     "output_type": "execute_result"
    }
   ],
   "source": [
    "arr.ndim"
   ]
  },
  {
   "cell_type": "code",
   "execution_count": 15,
   "id": "d67321e5",
   "metadata": {},
   "outputs": [
    {
     "data": {
      "text/plain": [
       "(2, 3)"
      ]
     },
     "execution_count": 15,
     "metadata": {},
     "output_type": "execute_result"
    }
   ],
   "source": [
    "arr.shape"
   ]
  },
  {
   "cell_type": "raw",
   "id": "4ba231db",
   "metadata": {},
   "source": [
    "note that numpy elements must be a homogenous data. \n",
    "Meaning they must contain only a single type of data"
   ]
  },
  {
   "cell_type": "code",
   "execution_count": 16,
   "id": "cc2c482f",
   "metadata": {},
   "outputs": [
    {
     "data": {
      "text/plain": [
       "dtype('float64')"
      ]
     },
     "execution_count": 16,
     "metadata": {},
     "output_type": "execute_result"
    }
   ],
   "source": [
    "arr.dtype"
   ]
  },
  {
   "cell_type": "code",
   "execution_count": 17,
   "id": "02b10d89",
   "metadata": {},
   "outputs": [],
   "source": [
    "newList = [2,4,3,5,6,4]"
   ]
  },
  {
   "cell_type": "code",
   "execution_count": 18,
   "id": "8bd541ff",
   "metadata": {},
   "outputs": [],
   "source": [
    "convNumpy = np.array(newList)"
   ]
  },
  {
   "cell_type": "code",
   "execution_count": 19,
   "id": "c9cd6929",
   "metadata": {},
   "outputs": [
    {
     "data": {
      "text/plain": [
       "array([2, 4, 3, 5, 6, 4])"
      ]
     },
     "execution_count": 19,
     "metadata": {},
     "output_type": "execute_result"
    }
   ],
   "source": [
    "convNumpy"
   ]
  },
  {
   "cell_type": "code",
   "execution_count": 20,
   "id": "a58e80a1",
   "metadata": {},
   "outputs": [
    {
     "data": {
      "text/plain": [
       "dtype('int32')"
      ]
     },
     "execution_count": 20,
     "metadata": {},
     "output_type": "execute_result"
    }
   ],
   "source": [
    "convNumpy.dtype"
   ]
  },
  {
   "cell_type": "code",
   "execution_count": 21,
   "id": "d09b5a93",
   "metadata": {},
   "outputs": [
    {
     "data": {
      "text/plain": [
       "(6,)"
      ]
     },
     "execution_count": 21,
     "metadata": {},
     "output_type": "execute_result"
    }
   ],
   "source": [
    "convNumpy.shape"
   ]
  },
  {
   "cell_type": "code",
   "execution_count": 22,
   "id": "44d73d8f",
   "metadata": {},
   "outputs": [
    {
     "data": {
      "text/plain": [
       "1"
      ]
     },
     "execution_count": 22,
     "metadata": {},
     "output_type": "execute_result"
    }
   ],
   "source": [
    "convNumpy.ndim"
   ]
  },
  {
   "cell_type": "code",
   "execution_count": 23,
   "id": "b26a1886",
   "metadata": {},
   "outputs": [
    {
     "name": "stderr",
     "output_type": "stream",
     "text": [
      "UsageError: %%markdown is a cell magic, but the cell body is empty.\n"
     ]
    }
   ],
   "source": []
  },
  {
   "cell_type": "code",
   "execution_count": null,
   "id": "bb461d68",
   "metadata": {},
   "outputs": [],
   "source": []
  }
 ],
 "metadata": {
  "kernelspec": {
   "display_name": "Python 3 (ipykernel)",
   "language": "python",
   "name": "python3"
  },
  "language_info": {
   "codemirror_mode": {
    "name": "ipython",
    "version": 3
   },
   "file_extension": ".py",
   "mimetype": "text/x-python",
   "name": "python",
   "nbconvert_exporter": "python",
   "pygments_lexer": "ipython3",
   "version": "3.10.1"
  }
 },
 "nbformat": 4,
 "nbformat_minor": 5
}
